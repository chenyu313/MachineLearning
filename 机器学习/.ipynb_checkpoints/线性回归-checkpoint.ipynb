{
 "cells": [
  {
   "cell_type": "markdown",
   "metadata": {},
   "source": [
    "# 线性回归简介"
   ]
  },
  {
   "cell_type": "markdown",
   "metadata": {},
   "source": [
    "- 定义：利⽤回归⽅程(函数)对⼀个或多个⾃变量(特征值)和因变量(⽬标值)之间关系进⾏建模的⼀种分析⽅式\n",
    "- 线性回归的分类：\n",
    "    - 线性关系\n",
    "    - 非线性关系"
   ]
  },
  {
   "cell_type": "markdown",
   "metadata": {},
   "source": [
    "# 线性回归api初步使用"
   ]
  },
  {
   "cell_type": "markdown",
   "metadata": {},
   "source": [
    "$$\n",
    "h(w)=w_{1} x_{1}+w_{2} x_{2}+w_{3} x_{3} \\ldots+\\mathrm{b}=w^{T} x\n",
    "$$"
   ]
  },
  {
   "cell_type": "markdown",
   "metadata": {},
   "source": [
    "- sklearn.linear_model.LinearRegression()\n",
    "    - LinearRegression.coef_：回归系数"
   ]
  },
  {
   "cell_type": "markdown",
   "metadata": {},
   "source": [
    "## 步骤分析"
   ]
  },
  {
   "cell_type": "markdown",
   "metadata": {},
   "source": [
    "- 获取数据集\n",
    "- 数据基本处理（该案例中省略）\n",
    "- 特征工程（该案例中省略）\n",
    "- 机器学习\n",
    "- 模型评估（该案例中省略）"
   ]
  },
  {
   "cell_type": "markdown",
   "metadata": {},
   "source": [
    "## 代码过程"
   ]
  },
  {
   "cell_type": "code",
   "execution_count": 1,
   "metadata": {},
   "outputs": [
    {
     "name": "stdout",
     "output_type": "stream",
     "text": [
      "线性回归的系数是：\n",
      " [0.3 0.7]\n",
      "线性回归的预测结果是：\n",
      " [86.]\n"
     ]
    }
   ],
   "source": [
    "#导入模块\n",
    "from sklearn.linear_model import LinearRegression\n",
    "#构造数据集\n",
    "x = [[80, 86],\n",
    "    [82, 80],\n",
    "    [85, 78],\n",
    "    [90, 90],\n",
    "    [86, 82],\n",
    "    [82, 90],\n",
    "    [78, 80],\n",
    "    [92, 94]]\n",
    "y = [84.2, 80.6, 80.1, 90, 83.2, 87.6, 79.4, 93.4]\n",
    "\n",
    "#机器学习-模型训练\n",
    "\n",
    "#实例化api\n",
    "estimator=LinearRegression()\n",
    "#使用fit方法进行训练\n",
    "estimator.fit(x,y)\n",
    "#打印对应系数\n",
    "print(\"线性回归的系数是：\\n\",estimator.coef_)\n",
    "#打印预测结果\n",
    "print(\"线性回归的预测结果是：\\n\",estimator.predict([[100,80]]))"
   ]
  },
  {
   "cell_type": "markdown",
   "metadata": {},
   "source": [
    "# 线性回归的损失和优化"
   ]
  },
  {
   "cell_type": "markdown",
   "metadata": {},
   "source": [
    "&emsp;&emsp;当真实结果与我们预测的结果存在一定误差时，我们需要将这个误差衡量出来。"
   ]
  },
  {
   "cell_type": "markdown",
   "metadata": {},
   "source": [
    "## 损失函数"
   ]
  },
  {
   "attachments": {},
   "cell_type": "markdown",
   "metadata": {},
   "source": [
    "$$\n",
    "\\begin{aligned}\n",
    "\\mathrm{J}(\\mathrm{w}) &=\\left(\\mathrm{h}\\left(x_{1}\\right)-y_{1}\\right)^{2}+\\left(\\mathrm{h}\\left(x_{2}\\right)-y_{2}\\right)^{2}+\\cdots+\\left(\\mathrm{h}\\left(x_{m}\\right)-y_{m}\\right)^{2} \\\\\n",
    "&=\\sum_{i=1}^{m}\\left(\\mathrm{~h}\\left(x_{i}\\right)-y_{i}\\right)^{2}\n",
    "\\end{aligned}\n",
    "$$"
   ]
  },
  {
   "cell_type": "markdown",
   "metadata": {},
   "source": [
    "- yi为第i个训练样本的真实值\n",
    "- h(xi)为第i个训练样本特征值组合预测函数\n",
    "- 又称最小二乘法"
   ]
  },
  {
   "cell_type": "markdown",
   "metadata": {},
   "source": [
    "## 优化函数"
   ]
  },
  {
   "cell_type": "markdown",
   "metadata": {},
   "source": [
    "目的是找到最小损失对应的W值（权重）  \n",
    "- 线性回归经常使用的两种优化算法\n",
    "    - 正规方程\n",
    "    - 梯度下降法"
   ]
  },
  {
   "cell_type": "markdown",
   "metadata": {},
   "source": [
    "### 正规方程"
   ]
  },
  {
   "cell_type": "markdown",
   "metadata": {},
   "source": [
    "$$\n",
    "w=\\left(X^{T} X\\right)^{-1} X^{T} y\n",
    "$$"
   ]
  },
  {
   "cell_type": "markdown",
   "metadata": {},
   "source": [
    "理解：X为特征值矩阵，y为目标值矩阵。直接求到最好的结果。  \n",
    "缺点：当特征过多过于复杂时，求解速度太慢且得不到结果。  \n",
    "（正规方程一步到位，梯度下降一步一步来）"
   ]
  },
  {
   "cell_type": "code",
   "execution_count": null,
   "metadata": {},
   "outputs": [],
   "source": []
  }
 ],
 "metadata": {
  "kernelspec": {
   "display_name": "Python 3",
   "language": "python",
   "name": "python3"
  },
  "language_info": {
   "codemirror_mode": {
    "name": "ipython",
    "version": 3
   },
   "file_extension": ".py",
   "mimetype": "text/x-python",
   "name": "python",
   "nbconvert_exporter": "python",
   "pygments_lexer": "ipython3",
   "version": "3.8.5"
  },
  "toc": {
   "base_numbering": 1,
   "nav_menu": {},
   "number_sections": true,
   "sideBar": true,
   "skip_h1_title": false,
   "title_cell": "Table of Contents",
   "title_sidebar": "Contents",
   "toc_cell": false,
   "toc_position": {},
   "toc_section_display": true,
   "toc_window_display": false
  }
 },
 "nbformat": 4,
 "nbformat_minor": 4
}
