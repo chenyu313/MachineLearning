{
 "cells": [
  {
   "cell_type": "markdown",
   "metadata": {},
   "source": [
    "# 集成学习简介"
   ]
  },
  {
   "cell_type": "markdown",
   "metadata": {},
   "source": [
    "&emsp;&emsp;集成学习通过建⽴⼏个模型来解决单⼀预测问题。它的⼯作原理是⽣成多个分类器/模型，各⾃独⽴地学习和作出预测。这些预测最后结合成组合预测，因此优于任何⼀个单分类的做出预测。（相当于推荐英雄主义，更倾向于三个臭皮匠顶个诸葛亮）\n",
    "\n",
    "- 机器学习的两个核心任务：\n",
    "    - （1）如何优化训练数据——>主要解决欠拟合问题\n",
    "        - 弱弱组合变强\n",
    "        - boosting逐步增强学习\n",
    "    - （2）如何提升泛化性能——>主要解决过拟合问题\n",
    "        - 相互扼制变壮\n",
    "        - Bagging采样学习集成"
   ]
  },
  {
   "cell_type": "markdown",
   "metadata": {},
   "source": [
    "# Bagging和随机森林\n",
    "\n",
    "## Bagging集成原理\n",
    "- 1.采样：从所有样本里面，采样一部分\n",
    "- 2.学习：训练弱学习器\n",
    "- 3.集成：使用平均投票\n",
    "- 简单来说，就是随机训练几个，然后在里面选出一个比较好的\n",
    "\n",
    "## 随机森林介绍"
   ]
  },
  {
   "cell_type": "markdown",
   "metadata": {},
   "source": [
    "- 定义：随机森林=Bagging+决策树\n",
    "- 流程：\n",
    "    - 1.随机选取m条数据\n",
    "    - 2.随机选取k个特征\n",
    "    - 3.训练决策树\n",
    "    - 4.重复1~3\n",
    "    - 5.对上面的偌决策树进行平均投票"
   ]
  },
  {
   "cell_type": "markdown",
   "metadata": {},
   "source": [
    "- 注意：\n",
    "    - 1.随机选取样本，且是有放回的抽取\n",
    "    - 2.选取随机m个特征，m<<M（M是所有的特征数）"
   ]
  },
  {
   "cell_type": "markdown",
   "metadata": {},
   "source": [
    "## 包外估计（Out-of-Bag Estimate）"
   ]
  },
  {
   "cell_type": "markdown",
   "metadata": {},
   "source": [
    "在随机森林构造过程中，如果进⾏有放回的抽样，我们会发现，总是有⼀部分样本我们选不到。\n",
    "- 这部分数据，占整体数据的⽐重有多⼤呢？\n",
    "- 这部分数据有什么⽤呢？"
   ]
  },
  {
   "cell_type": "markdown",
   "metadata": {},
   "source": [
    "用途：\n",
    "- （1）当基学习器是决策树时，可使⽤包外样本来辅助剪枝 ，或⽤于估计决策树中各结点的后验概率以辅助对零训练样本结点的处理；\n",
    "- （2）当基学习器是神经⽹络时，可使⽤包外样本来辅助早期停⽌以减⼩过拟合 。"
   ]
  },
  {
   "cell_type": "markdown",
   "metadata": {},
   "source": [
    "## 随机森林api"
   ]
  },
  {
   "cell_type": "markdown",
   "metadata": {},
   "source": [
    "sklearn.ensemble.RandomForestClassifier()"
   ]
  },
  {
   "cell_type": "markdown",
   "metadata": {},
   "source": [
    "## Bagging集成优点\n",
    "Bagging + 决策树/线性回归/逻辑回归/深度学习… = bagging集成学习⽅法\n",
    "\n",
    "- 1.均可在原有算法上提⾼约2%左右的泛化正确率\n",
    "- 2.简单, ⽅便, 通⽤"
   ]
  },
  {
   "cell_type": "code",
   "execution_count": null,
   "metadata": {},
   "outputs": [],
   "source": []
  }
 ],
 "metadata": {
  "kernelspec": {
   "display_name": "Python 3",
   "language": "python",
   "name": "python3"
  },
  "language_info": {
   "codemirror_mode": {
    "name": "ipython",
    "version": 3
   },
   "file_extension": ".py",
   "mimetype": "text/x-python",
   "name": "python",
   "nbconvert_exporter": "python",
   "pygments_lexer": "ipython3",
   "version": "3.8.5"
  },
  "toc": {
   "base_numbering": 1,
   "nav_menu": {},
   "number_sections": true,
   "sideBar": true,
   "skip_h1_title": false,
   "title_cell": "Table of Contents",
   "title_sidebar": "Contents",
   "toc_cell": false,
   "toc_position": {},
   "toc_section_display": true,
   "toc_window_display": true
  }
 },
 "nbformat": 4,
 "nbformat_minor": 4
}
