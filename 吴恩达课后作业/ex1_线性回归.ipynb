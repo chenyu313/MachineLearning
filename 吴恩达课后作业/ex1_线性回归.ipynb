{
 "cells": [
  {
   "cell_type": "markdown",
   "metadata": {},
   "source": [
    "# 线性回归"
   ]
  },
  {
   "cell_type": "markdown",
   "metadata": {},
   "source": [
    "吴恩达机器学习ex1的python实现  \n",
    "ex1data1.txt -单变量线性回归数据集  \n",
    "ex1data2.txt -多变量线性回归数据集 "
   ]
  },
  {
   "cell_type": "markdown",
   "metadata": {},
   "source": [
    "## 一、简单练习"
   ]
  },
  {
   "cell_type": "code",
   "execution_count": 2,
   "metadata": {},
   "outputs": [
    {
     "data": {
      "text/plain": [
       "array([[1., 0., 0., 0., 0.],\n",
       "       [0., 1., 0., 0., 0.],\n",
       "       [0., 0., 1., 0., 0.],\n",
       "       [0., 0., 0., 1., 0.],\n",
       "       [0., 0., 0., 0., 1.]])"
      ]
     },
     "execution_count": 2,
     "metadata": {},
     "output_type": "execute_result"
    }
   ],
   "source": [
    "#导包\n",
    "import numpy as np\n",
    "import pandas as pd\n",
    "import matplotlib.pyplot as plt\n",
    "\n",
    "#输出一个5*5的对角矩阵\n",
    "A=np.eye(5)\n",
    "A"
   ]
  },
  {
   "cell_type": "markdown",
   "metadata": {},
   "source": [
    "## 二、单变量的线性回归"
   ]
  },
  {
   "cell_type": "markdown",
   "metadata": {},
   "source": [
    "### 2.1 问题背景"
   ]
  },
  {
   "cell_type": "markdown",
   "metadata": {},
   "source": [
    "&ensp; &ensp; 在本部分的练习中，您将使用一个变量实现线性回归用来预测餐车利润。假设你是某公司的CEO餐厅特许经营，正在考虑在不同的城市开设新的出口。连锁店已经在不同的城市有卡车，你有数据来自城市的利润和人口。您可以使用这些数据来帮助您选择下一个扩展到哪个城市。ex1data1.txt文件包含线性回归问题lem的数据集。第一列是一个城市的人口，第二列是该城市一辆餐车的利润。利润为负值表示亏损。"
   ]
  },
  {
   "cell_type": "markdown",
   "metadata": {},
   "source": [
    "&ensp; &ensp; 在开始任何任务之前，通过可视化来理解数据通常是有用的。 对于这个数据集，您可以使用散点图来可视化数据，因为它只有两个属性需要绘制(利润和人口)。 (您将在现实生活中遇到的许多其他问题是多维的，无法在二维图上绘制出来。) 在例1，数据集从数据文件加载到变量X和y中。"
   ]
  },
  {
   "cell_type": "code",
   "execution_count": 10,
   "metadata": {},
   "outputs": [
    {
     "data": {
      "text/plain": [
       "pandas.core.frame.DataFrame"
      ]
     },
     "execution_count": 10,
     "metadata": {},
     "output_type": "execute_result"
    }
   ],
   "source": [
    "## header = None表示没有表头\n",
    "data=pd.read_csv('ex1data1.txt',header=None,names=['人口','利润'])\n",
    "#X=data[0:,1]\n",
    "#y=data[0:,1]\n",
    "type(data)"
   ]
  },
  {
   "cell_type": "code",
   "execution_count": null,
   "metadata": {},
   "outputs": [],
   "source": []
  }
 ],
 "metadata": {
  "kernelspec": {
   "display_name": "Python 3",
   "language": "python",
   "name": "python3"
  },
  "language_info": {
   "codemirror_mode": {
    "name": "ipython",
    "version": 3
   },
   "file_extension": ".py",
   "mimetype": "text/x-python",
   "name": "python",
   "nbconvert_exporter": "python",
   "pygments_lexer": "ipython3",
   "version": "3.8.5"
  }
 },
 "nbformat": 4,
 "nbformat_minor": 4
}
